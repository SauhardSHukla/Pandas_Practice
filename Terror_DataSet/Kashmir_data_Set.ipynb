{
 "cells": [
  {
   "cell_type": "markdown",
   "metadata": {},
   "source": [
    "##### Problem statement\n",
    "Given file \"terrorismData.csv\"\n",
    "\n",
    "It is an open-source database including information on terrorist attacks around the world from 1970 through 2017. This dataset includes systematic data on domestic as well as international terrorist incidents that have occurred during this time period\n",
    "\n",
    "##### Problem Statement :\n",
    "The Most Dangerous city in Jammu and Kashmir and the terrorist group which is most active in that city?\n",
    "\n",
    "Print count of number of attacks in that city as integer value.\n",
    "\n",
    "##### Note:\n",
    "Ignoring the Unknown Terrorist Group.Here Dangerous related with the number of terrorist attacks.\n",
    "\n",
    "###### Output Format :\n",
    "City NumberOfAttack Group"
   ]
  },
  {
   "cell_type": "code",
   "execution_count": 76,
   "metadata": {},
   "outputs": [
    {
     "name": "stdout",
     "output_type": "stream",
     "text": [
      "Srinagar 657 Muslim Separatists\n"
     ]
    }
   ],
   "source": [
    "import pandas as pd\n",
    "import numpy as np\n",
    "terror = pd.read_csv('C:/Users/5530/OneDrive/Desktop/Data_Analytics/Data-Analytics/Terrorist_data/terrorismData.csv')\n",
    "df = terror.copy()\n",
    "# df.head(2)\n",
    "\n",
    "df=df[df['State']=='Jammu and Kashmir']\n",
    "df=df[df['City']==df['City'].describe().top]\n",
    "count = df.shape[0]\n",
    "# print(count)\n",
    "\n",
    "df=df[df['Group']!='Unknown']\n",
    "city = df['Group'].describe().top\n",
    "ity = df['City'].describe().top\n",
    "print(ity,count,city)"
   ]
  },
  {
   "cell_type": "markdown",
   "metadata": {},
   "source": [
    "Second Method to Proceed with the DataFrame"
   ]
  },
  {
   "cell_type": "code",
   "execution_count": 77,
   "metadata": {},
   "outputs": [
    {
     "data": {
      "text/html": [
       "<div>\n",
       "<style scoped>\n",
       "    .dataframe tbody tr th:only-of-type {\n",
       "        vertical-align: middle;\n",
       "    }\n",
       "\n",
       "    .dataframe tbody tr th {\n",
       "        vertical-align: top;\n",
       "    }\n",
       "\n",
       "    .dataframe thead th {\n",
       "        text-align: right;\n",
       "    }\n",
       "</style>\n",
       "<table border=\"1\" class=\"dataframe\">\n",
       "  <thead>\n",
       "    <tr style=\"text-align: right;\">\n",
       "      <th></th>\n",
       "      <th>Year</th>\n",
       "      <th>Month</th>\n",
       "      <th>Day</th>\n",
       "      <th>Country</th>\n",
       "      <th>State</th>\n",
       "      <th>Region</th>\n",
       "      <th>City</th>\n",
       "      <th>Latitude</th>\n",
       "      <th>Longitude</th>\n",
       "      <th>AttackType</th>\n",
       "      <th>Killed</th>\n",
       "      <th>Wounded</th>\n",
       "      <th>Target</th>\n",
       "      <th>Summary</th>\n",
       "      <th>Group</th>\n",
       "      <th>Target_type</th>\n",
       "      <th>Weapon_type</th>\n",
       "    </tr>\n",
       "  </thead>\n",
       "  <tbody>\n",
       "    <tr>\n",
       "      <th>0</th>\n",
       "      <td>1970</td>\n",
       "      <td>7</td>\n",
       "      <td>2</td>\n",
       "      <td>Dominican Republic</td>\n",
       "      <td>NaN</td>\n",
       "      <td>Central America &amp; Caribbean</td>\n",
       "      <td>Santo Domingo</td>\n",
       "      <td>18.456792</td>\n",
       "      <td>-69.951164</td>\n",
       "      <td>Assassination</td>\n",
       "      <td>1.0</td>\n",
       "      <td>0.0</td>\n",
       "      <td>Julio Guzman</td>\n",
       "      <td>NaN</td>\n",
       "      <td>MANO-D</td>\n",
       "      <td>Private Citizens &amp; Property</td>\n",
       "      <td>Unknown</td>\n",
       "    </tr>\n",
       "    <tr>\n",
       "      <th>1</th>\n",
       "      <td>1970</td>\n",
       "      <td>0</td>\n",
       "      <td>0</td>\n",
       "      <td>Mexico</td>\n",
       "      <td>Federal</td>\n",
       "      <td>North America</td>\n",
       "      <td>Mexico city</td>\n",
       "      <td>19.371887</td>\n",
       "      <td>-99.086624</td>\n",
       "      <td>Hostage Taking (Kidnapping)</td>\n",
       "      <td>0.0</td>\n",
       "      <td>0.0</td>\n",
       "      <td>Nadine Chaval, daughter</td>\n",
       "      <td>NaN</td>\n",
       "      <td>23rd of September Communist League</td>\n",
       "      <td>Government (Diplomatic)</td>\n",
       "      <td>Unknown</td>\n",
       "    </tr>\n",
       "  </tbody>\n",
       "</table>\n",
       "</div>"
      ],
      "text/plain": [
       "   Year  Month  Day             Country    State                       Region  \\\n",
       "0  1970      7    2  Dominican Republic      NaN  Central America & Caribbean   \n",
       "1  1970      0    0              Mexico  Federal                North America   \n",
       "\n",
       "            City   Latitude  Longitude                   AttackType  Killed  \\\n",
       "0  Santo Domingo  18.456792 -69.951164                Assassination     1.0   \n",
       "1    Mexico city  19.371887 -99.086624  Hostage Taking (Kidnapping)     0.0   \n",
       "\n",
       "   Wounded                   Target Summary  \\\n",
       "0      0.0             Julio Guzman     NaN   \n",
       "1      0.0  Nadine Chaval, daughter     NaN   \n",
       "\n",
       "                                Group                  Target_type Weapon_type  \n",
       "0                              MANO-D  Private Citizens & Property     Unknown  \n",
       "1  23rd of September Communist League      Government (Diplomatic)     Unknown  "
      ]
     },
     "execution_count": 77,
     "metadata": {},
     "output_type": "execute_result"
    }
   ],
   "source": [
    "import pandas as pd\n",
    "import numpy as np\n",
    "terror = pd.read_csv('C:/Users/5530/OneDrive/Desktop/Data_Analytics/Data-Analytics/Terrorist_data/terrorismData.csv')\n",
    "df = terror.copy()\n",
    "df.head(2)\n"
   ]
  },
  {
   "cell_type": "code",
   "execution_count": 86,
   "metadata": {},
   "outputs": [
    {
     "name": "stdout",
     "output_type": "stream",
     "text": [
      "Muslim Separatists Srinagar 657\n"
     ]
    }
   ],
   "source": [
    "jk_dta = df[df['State']=='Jammu and Kashmir']\n",
    "\n",
    "most_danger_city = jk_dta['City'].value_counts().idxmax()\n",
    "# print(most_danger_city)\n",
    "most_danger_city_VALUE = jk_dta['City'].value_counts().max()\n",
    "# print(most_danger_city_VALUE)\n",
    "\n",
    "jk_dta=jk_dta[jk_dta['City']==most_danger_city]\n",
    "\n",
    "jk_data_value = jk_dta[jk_dta['Group']!= 'Unknown']\n",
    "data=jk_data_value['Group'].value_counts().idxmax()\n",
    "\n",
    "print(data,most_danger_city,most_danger_city_VALUE)"
   ]
  }
 ],
 "metadata": {
  "kernelspec": {
   "display_name": "Python 3",
   "language": "python",
   "name": "python3"
  },
  "language_info": {
   "codemirror_mode": {
    "name": "ipython",
    "version": 3
   },
   "file_extension": ".py",
   "mimetype": "text/x-python",
   "name": "python",
   "nbconvert_exporter": "python",
   "pygments_lexer": "ipython3",
   "version": "3.12.3"
  }
 },
 "nbformat": 4,
 "nbformat_minor": 2
}
