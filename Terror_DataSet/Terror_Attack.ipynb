{
 "cells": [
  {
   "cell_type": "markdown",
   "metadata": {},
   "source": [
    "##### Problem statement\n",
    "Given file \"terrorismData.csv\"\n",
    "\n",
    "It is an open-source database including information on terrorist attacks around the world from 1970 through 2017. This dataset includes systematic data on domestic as well as international terrorist incidents that have occurred during this time period\n",
    "\n",
    "##### Problem Statement :\n",
    "Find out the Country with Highest Number of Terror Attack and in which year the most number of terrorist attack happened in that country ?\n",
    "\n",
    "Print count of terror attacks as integer value.\n",
    "\n",
    "##### Output Format :\n",
    "Country NumberOfAttack Year"
   ]
  },
  {
   "cell_type": "code",
   "execution_count": null,
   "metadata": {},
   "outputs": [
    {
     "name": "stdout",
     "output_type": "stream",
     "text": [
      "24636 Iraq 0    2014\n",
      "Name: Year, dtype: int64\n"
     ]
    }
   ],
   "source": [
    "import pandas as pd\n",
    "import numpy as np\n",
    "terror = pd.read_csv('C:/Users/5530/OneDrive/Desktop/Data_Analytics/Data-Analytics/Terrorist_data/terrorismData.csv')\n",
    "df = terror.copy()\n",
    "coutnry_name=df['Country'].describe().top\n",
    "df=df[df['Country']==coutnry_name]\n",
    "\n",
    "#We cannot use descrive because we are accessing num values here so we will use 'mode' \n",
    "#It will give use the list of all the most freq value and we will access the the top\n",
    "# with the help of the [0] indexing\n",
    "year_name = df['Year'].mode()[0]\n",
    "count=df.shape[0]\n",
    "\n",
    "print(count,coutnry_name,year_name)"
   ]
  }
 ],
 "metadata": {
  "kernelspec": {
   "display_name": "Python 3",
   "language": "python",
   "name": "python3"
  },
  "language_info": {
   "codemirror_mode": {
    "name": "ipython",
    "version": 3
   },
   "file_extension": ".py",
   "mimetype": "text/x-python",
   "name": "python",
   "nbconvert_exporter": "python",
   "pygments_lexer": "ipython3",
   "version": "3.12.3"
  }
 },
 "nbformat": 4,
 "nbformat_minor": 2
}
