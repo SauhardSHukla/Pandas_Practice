{
 "cells": [
  {
   "cell_type": "markdown",
   "metadata": {},
   "source": [
    "#### Problem statement\n",
    "Given file \"terrorismData.csv\"\n",
    "\n",
    "It is an open-source database including information on terrorist attacks around the world from 1970 through 2017. This dataset includes systematic data on domestic as well as international terrorist incidents that have occurred during this time period\n",
    "\n",
    "##### Problem Statement :\n",
    "Most Deadliest attack in a history of HumanKind?\n",
    "\n",
    "Print count of Killed people as integer value.\n",
    "\n",
    "Note: Here Deadliest attack means, in which the most number of people killed.\n",
    "\n",
    "##### Output Format :\n",
    "NumberOfPeopleKilled Country TerroristGroup\n",
    "\n"
   ]
  },
  {
   "cell_type": "code",
   "execution_count": 20,
   "metadata": {},
   "outputs": [
    {
     "name": "stdout",
     "output_type": "stream",
     "text": [
      "9574.0 Al-Qaida United States\n"
     ]
    },
    {
     "name": "stderr",
     "output_type": "stream",
     "text": [
      "C:\\Users\\5530\\AppData\\Local\\Temp\\ipykernel_24656\\1202317125.py:12: SettingWithCopyWarning: \n",
      "A value is trying to be set on a copy of a slice from a DataFrame\n",
      "\n",
      "See the caveats in the documentation: https://pandas.pydata.org/pandas-docs/stable/user_guide/indexing.html#returning-a-view-versus-a-copy\n",
      "  set_data.drop_duplicates(subset=['City'],inplace= True)\n"
     ]
    }
   ],
   "source": [
    "import pandas as pd\n",
    "import numpy as np\n",
    "terror = pd.read_csv('C:/Users/5530/OneDrive/Desktop/Data_Analytics/Data-Analytics/Terrorist_data/terrorismData.csv')\n",
    "df = terror.copy()\n",
    "# df.head(2)\n",
    "\n",
    "df['Total'] = df['Killed']+df['Wounded']\n",
    "value = df['Total'].max()\n",
    "# print(value)\n",
    "set_data = df[df['Total']==value]\n",
    "# set_data.reset_index(drop=True,inplace=True)\n",
    "set_data.drop_duplicates(subset=['City'],inplace= True)\n",
    "# set_data.head()\n",
    "\n",
    "GRP_Data_killed =set_data['Total']\n",
    "GRP_Data=set_data['Group']\n",
    "GRP_COU=set_data['Country']\n",
    "\n",
    "# print(GRP_Data.to_string(index=False),GRP_COU.to_string(index=False),GRP_Data_killed.to_string(index=False))\n",
    "print(*GRP_Data_killed.to_numpy(),*GRP_Data.to_numpy(),*GRP_COU.to_numpy())"
   ]
  },
  {
   "cell_type": "code",
   "execution_count": 21,
   "metadata": {},
   "outputs": [],
   "source": [
    "#To show in the form of the Dataframe using pandas as pd\n",
    "\n",
    "# result_form = pd.DataFrame({\n",
    "#   'Group':GRP_Data,\n",
    "#   'Total' :GRP_Data_killed\n",
    "# })\n",
    "# print(result_form)"
   ]
  }
 ],
 "metadata": {
  "kernelspec": {
   "display_name": "Python 3",
   "language": "python",
   "name": "python3"
  },
  "language_info": {
   "codemirror_mode": {
    "name": "ipython",
    "version": 3
   },
   "file_extension": ".py",
   "mimetype": "text/x-python",
   "name": "python",
   "nbconvert_exporter": "python",
   "pygments_lexer": "ipython3",
   "version": "3.12.3"
  }
 },
 "nbformat": 4,
 "nbformat_minor": 2
}
